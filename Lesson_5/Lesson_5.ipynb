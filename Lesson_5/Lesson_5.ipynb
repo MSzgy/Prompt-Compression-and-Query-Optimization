{
 "cells": [
  {
   "cell_type": "markdown",
   "id": "ec4ea046-ac11-4cb8-9531-b6a90fea6ecb",
   "metadata": {},
   "source": [
    "# L5: Prompt Compression\n"
   ]
  },
  {
   "cell_type": "markdown",
   "id": "b74f85b7-00a0-4915-b9f5-ea916357a4ba",
   "metadata": {},
   "source": [
    "<p style=\"background-color:#fff6e4; padding:15px; border-width:3px; border-color:#f5ecda; border-style:solid; border-radius:6px\"> ⏳ <b>Note <code>(Kernel Starting)</code>:</b> This notebook takes about 30 seconds to be ready to use. You may start and watch the video while you wait.</p>"
   ]
  },
  {
   "cell_type": "code",
   "execution_count": 4,
   "id": "f51fd497-83e5-49fa-abf9-4df7f70276f7",
   "metadata": {
    "height": 64
   },
   "outputs": [],
   "source": [
    "# Warning control\n",
    "import warnings\n",
    "warnings.filterwarnings('ignore')"
   ]
  },
  {
   "cell_type": "code",
   "execution_count": 5,
   "id": "f475605b-e4bc-4d6e-993a-b5bee2f60951",
   "metadata": {
    "height": 30
   },
   "outputs": [],
   "source": [
    "#pip install llmlingua"
   ]
  },
  {
   "cell_type": "code",
   "execution_count": 6,
   "id": "1269d100-d775-44d0-9198-25a7194234f2",
   "metadata": {
    "height": 30
   },
   "outputs": [],
   "source": [
    "import custom_utils "
   ]
  },
  {
   "cell_type": "markdown",
   "id": "b136ae50-743e-4b4f-bede-201cdf68c13a",
   "metadata": {},
   "source": [
    "<p style=\"background-color:#fff6ff; padding:15px; border-width:3px; border-color:#efe6ef; border-style:solid; border-radius:6px\"> 💻 &nbsp; <b>Access <code>requirements.txt</code> and <code>utils</code> files:</b> To access <code>requirements.txt</code> for this notebook, 1) click on the <em>\"File\"</em> option on the top menu of the notebook and then 2) click on <em>\"Open\"</em>. For more help, please see the <em>\"Appendix - Tips and Help\"</em> Lesson.</p>"
   ]
  },
  {
   "cell_type": "markdown",
   "id": "ad100d3a-2878-49d8-9149-7cf17b762ae3",
   "metadata": {},
   "source": [
    "## Data Loading"
   ]
  },
  {
   "cell_type": "code",
   "execution_count": 7,
   "id": "6ba54c1f-108c-49f2-bcdb-234c06df3eaa",
   "metadata": {
    "height": 149
   },
   "outputs": [
    {
     "data": {
      "application/vnd.jupyter.widget-view+json": {
       "model_id": "5f63aa3871324207adabbdb290640b8a",
       "version_major": 2,
       "version_minor": 0
      },
      "text/plain": [
       "Downloading readme:   0%|          | 0.00/4.84k [00:00<?, ?B/s]"
      ]
     },
     "metadata": {},
     "output_type": "display_data"
    },
    {
     "data": {
      "text/html": [
       "<div>\n",
       "<style scoped>\n",
       "    .dataframe tbody tr th:only-of-type {\n",
       "        vertical-align: middle;\n",
       "    }\n",
       "\n",
       "    .dataframe tbody tr th {\n",
       "        vertical-align: top;\n",
       "    }\n",
       "\n",
       "    .dataframe thead th {\n",
       "        text-align: right;\n",
       "    }\n",
       "</style>\n",
       "<table border=\"1\" class=\"dataframe\">\n",
       "  <thead>\n",
       "    <tr style=\"text-align: right;\">\n",
       "      <th></th>\n",
       "      <th>_id</th>\n",
       "      <th>listing_url</th>\n",
       "      <th>name</th>\n",
       "      <th>summary</th>\n",
       "      <th>space</th>\n",
       "      <th>description</th>\n",
       "      <th>neighborhood_overview</th>\n",
       "      <th>notes</th>\n",
       "      <th>transit</th>\n",
       "      <th>access</th>\n",
       "      <th>...</th>\n",
       "      <th>images</th>\n",
       "      <th>host</th>\n",
       "      <th>address</th>\n",
       "      <th>availability</th>\n",
       "      <th>review_scores</th>\n",
       "      <th>reviews</th>\n",
       "      <th>weekly_price</th>\n",
       "      <th>monthly_price</th>\n",
       "      <th>text_embeddings</th>\n",
       "      <th>image_embeddings</th>\n",
       "    </tr>\n",
       "  </thead>\n",
       "  <tbody>\n",
       "    <tr>\n",
       "      <th>0</th>\n",
       "      <td>10006546</td>\n",
       "      <td>https://www.airbnb.com/rooms/10006546</td>\n",
       "      <td>Ribeira Charming Duplex</td>\n",
       "      <td>Fantastic duplex apartment with three bedrooms...</td>\n",
       "      <td>Privileged views of the Douro River and Ribeir...</td>\n",
       "      <td>Fantastic duplex apartment with three bedrooms...</td>\n",
       "      <td>In the neighborhood of the river, you can find...</td>\n",
       "      <td>Lose yourself in the narrow streets and stairc...</td>\n",
       "      <td>Transport: • Metro station and S. Bento railwa...</td>\n",
       "      <td>We are always available to help guests. The ho...</td>\n",
       "      <td>...</td>\n",
       "      <td>{'thumbnail_url': '', 'medium_url': '', 'pictu...</td>\n",
       "      <td>{'host_id': '51399391', 'host_url': 'https://w...</td>\n",
       "      <td>{'street': 'Porto, Porto, Portugal', 'suburb':...</td>\n",
       "      <td>{'availability_30': 28, 'availability_60': 47,...</td>\n",
       "      <td>{'review_scores_accuracy': 9, 'review_scores_c...</td>\n",
       "      <td>[{'_id': '58663741', 'date': 2016-01-03 05:00:...</td>\n",
       "      <td>NaN</td>\n",
       "      <td>NaN</td>\n",
       "      <td>[0.0123710884, -0.0180913936, -0.016843712, -0...</td>\n",
       "      <td>[-0.1302358955, 0.1534578055, 0.0199299306, -0...</td>\n",
       "    </tr>\n",
       "    <tr>\n",
       "      <th>1</th>\n",
       "      <td>10021707</td>\n",
       "      <td>https://www.airbnb.com/rooms/10021707</td>\n",
       "      <td>Private Room in Bushwick</td>\n",
       "      <td>Here exists a very cozy room for rent in a sha...</td>\n",
       "      <td></td>\n",
       "      <td>Here exists a very cozy room for rent in a sha...</td>\n",
       "      <td></td>\n",
       "      <td></td>\n",
       "      <td></td>\n",
       "      <td></td>\n",
       "      <td>...</td>\n",
       "      <td>{'thumbnail_url': '', 'medium_url': '', 'pictu...</td>\n",
       "      <td>{'host_id': '11275734', 'host_url': 'https://w...</td>\n",
       "      <td>{'street': 'Brooklyn, NY, United States', 'sub...</td>\n",
       "      <td>{'availability_30': 0, 'availability_60': 0, '...</td>\n",
       "      <td>{'review_scores_accuracy': 10, 'review_scores_...</td>\n",
       "      <td>[{'_id': '61050713', 'date': 2016-01-31 05:00:...</td>\n",
       "      <td>NaN</td>\n",
       "      <td>NaN</td>\n",
       "      <td>[0.0153845912, -0.0348115042, -0.0093448907, 0...</td>\n",
       "      <td>[0.0340401195, 0.1742489338, -0.1572628617, 0....</td>\n",
       "    </tr>\n",
       "    <tr>\n",
       "      <th>2</th>\n",
       "      <td>1001265</td>\n",
       "      <td>https://www.airbnb.com/rooms/1001265</td>\n",
       "      <td>Ocean View Waikiki Marina w/prkg</td>\n",
       "      <td>A short distance from Honolulu's billion dolla...</td>\n",
       "      <td>Great studio located on Ala Moana across the s...</td>\n",
       "      <td>A short distance from Honolulu's billion dolla...</td>\n",
       "      <td>You can breath ocean as well as aloha.</td>\n",
       "      <td></td>\n",
       "      <td>Honolulu does have a very good air conditioned...</td>\n",
       "      <td>Pool, hot tub and tennis</td>\n",
       "      <td>...</td>\n",
       "      <td>{'thumbnail_url': '', 'medium_url': '', 'pictu...</td>\n",
       "      <td>{'host_id': '5448114', 'host_url': 'https://ww...</td>\n",
       "      <td>{'street': 'Honolulu, HI, United States', 'sub...</td>\n",
       "      <td>{'availability_30': 16, 'availability_60': 46,...</td>\n",
       "      <td>{'review_scores_accuracy': 9, 'review_scores_c...</td>\n",
       "      <td>[{'_id': '4765259', 'date': 2013-05-24 04:00:0...</td>\n",
       "      <td>650.0</td>\n",
       "      <td>2150.0</td>\n",
       "      <td>[-0.0400562622, -0.0405789167, 0.000644172, 0....</td>\n",
       "      <td>[-0.1640156209, 0.1256971657, 0.6594450474, -0...</td>\n",
       "    </tr>\n",
       "    <tr>\n",
       "      <th>3</th>\n",
       "      <td>10009999</td>\n",
       "      <td>https://www.airbnb.com/rooms/10009999</td>\n",
       "      <td>Horto flat with small garden</td>\n",
       "      <td>One bedroom + sofa-bed in quiet and bucolic ne...</td>\n",
       "      <td>Lovely one bedroom + sofa-bed in the living ro...</td>\n",
       "      <td>One bedroom + sofa-bed in quiet and bucolic ne...</td>\n",
       "      <td>This charming ground floor flat is located in ...</td>\n",
       "      <td>There´s a table in the living room now, that d...</td>\n",
       "      <td>Easy access to transport (bus, taxi, car) and ...</td>\n",
       "      <td></td>\n",
       "      <td>...</td>\n",
       "      <td>{'thumbnail_url': '', 'medium_url': '', 'pictu...</td>\n",
       "      <td>{'host_id': '1282196', 'host_url': 'https://ww...</td>\n",
       "      <td>{'street': 'Rio de Janeiro, Rio de Janeiro, Br...</td>\n",
       "      <td>{'availability_30': 0, 'availability_60': 0, '...</td>\n",
       "      <td>{'review_scores_accuracy': None, 'review_score...</td>\n",
       "      <td>[]</td>\n",
       "      <td>1492.0</td>\n",
       "      <td>4849.0</td>\n",
       "      <td>[-0.063234821, 0.0017937823, -0.0243996996, -0...</td>\n",
       "      <td>[-0.1292964518, 0.037789464, 0.2443587631, 0.0...</td>\n",
       "    </tr>\n",
       "    <tr>\n",
       "      <th>4</th>\n",
       "      <td>10047964</td>\n",
       "      <td>https://www.airbnb.com/rooms/10047964</td>\n",
       "      <td>Charming Flat in Downtown Moda</td>\n",
       "      <td>Fully furnished 3+1 flat decorated with vintag...</td>\n",
       "      <td>The apartment is composed of 1 big bedroom wit...</td>\n",
       "      <td>Fully furnished 3+1 flat decorated with vintag...</td>\n",
       "      <td>With its diversity Moda- Kadikoy is one of the...</td>\n",
       "      <td></td>\n",
       "      <td></td>\n",
       "      <td></td>\n",
       "      <td>...</td>\n",
       "      <td>{'thumbnail_url': '', 'medium_url': '', 'pictu...</td>\n",
       "      <td>{'host_id': '1241644', 'host_url': 'https://ww...</td>\n",
       "      <td>{'street': 'Kadıköy, İstanbul, Turkey', 'subur...</td>\n",
       "      <td>{'availability_30': 27, 'availability_60': 57,...</td>\n",
       "      <td>{'review_scores_accuracy': 10, 'review_scores_...</td>\n",
       "      <td>[{'_id': '68162172', 'date': 2016-04-02 04:00:...</td>\n",
       "      <td>NaN</td>\n",
       "      <td>NaN</td>\n",
       "      <td>[0.023723349, 0.0064210771, -0.0339970738, -0....</td>\n",
       "      <td>[-0.1006749049, 0.4022984803, -0.1821258366, 0...</td>\n",
       "    </tr>\n",
       "  </tbody>\n",
       "</table>\n",
       "<p>5 rows × 43 columns</p>\n",
       "</div>"
      ],
      "text/plain": [
       "        _id                            listing_url  \\\n",
       "0  10006546  https://www.airbnb.com/rooms/10006546   \n",
       "1  10021707  https://www.airbnb.com/rooms/10021707   \n",
       "2   1001265   https://www.airbnb.com/rooms/1001265   \n",
       "3  10009999  https://www.airbnb.com/rooms/10009999   \n",
       "4  10047964  https://www.airbnb.com/rooms/10047964   \n",
       "\n",
       "                               name  \\\n",
       "0           Ribeira Charming Duplex   \n",
       "1          Private Room in Bushwick   \n",
       "2  Ocean View Waikiki Marina w/prkg   \n",
       "3      Horto flat with small garden   \n",
       "4    Charming Flat in Downtown Moda   \n",
       "\n",
       "                                             summary  \\\n",
       "0  Fantastic duplex apartment with three bedrooms...   \n",
       "1  Here exists a very cozy room for rent in a sha...   \n",
       "2  A short distance from Honolulu's billion dolla...   \n",
       "3  One bedroom + sofa-bed in quiet and bucolic ne...   \n",
       "4  Fully furnished 3+1 flat decorated with vintag...   \n",
       "\n",
       "                                               space  \\\n",
       "0  Privileged views of the Douro River and Ribeir...   \n",
       "1                                                      \n",
       "2  Great studio located on Ala Moana across the s...   \n",
       "3  Lovely one bedroom + sofa-bed in the living ro...   \n",
       "4  The apartment is composed of 1 big bedroom wit...   \n",
       "\n",
       "                                         description  \\\n",
       "0  Fantastic duplex apartment with three bedrooms...   \n",
       "1  Here exists a very cozy room for rent in a sha...   \n",
       "2  A short distance from Honolulu's billion dolla...   \n",
       "3  One bedroom + sofa-bed in quiet and bucolic ne...   \n",
       "4  Fully furnished 3+1 flat decorated with vintag...   \n",
       "\n",
       "                               neighborhood_overview  \\\n",
       "0  In the neighborhood of the river, you can find...   \n",
       "1                                                      \n",
       "2             You can breath ocean as well as aloha.   \n",
       "3  This charming ground floor flat is located in ...   \n",
       "4  With its diversity Moda- Kadikoy is one of the...   \n",
       "\n",
       "                                               notes  \\\n",
       "0  Lose yourself in the narrow streets and stairc...   \n",
       "1                                                      \n",
       "2                                                      \n",
       "3  There´s a table in the living room now, that d...   \n",
       "4                                                      \n",
       "\n",
       "                                             transit  \\\n",
       "0  Transport: • Metro station and S. Bento railwa...   \n",
       "1                                                      \n",
       "2  Honolulu does have a very good air conditioned...   \n",
       "3  Easy access to transport (bus, taxi, car) and ...   \n",
       "4                                                      \n",
       "\n",
       "                                              access  ...  \\\n",
       "0  We are always available to help guests. The ho...  ...   \n",
       "1                                                     ...   \n",
       "2                           Pool, hot tub and tennis  ...   \n",
       "3                                                     ...   \n",
       "4                                                     ...   \n",
       "\n",
       "                                              images  \\\n",
       "0  {'thumbnail_url': '', 'medium_url': '', 'pictu...   \n",
       "1  {'thumbnail_url': '', 'medium_url': '', 'pictu...   \n",
       "2  {'thumbnail_url': '', 'medium_url': '', 'pictu...   \n",
       "3  {'thumbnail_url': '', 'medium_url': '', 'pictu...   \n",
       "4  {'thumbnail_url': '', 'medium_url': '', 'pictu...   \n",
       "\n",
       "                                                host  \\\n",
       "0  {'host_id': '51399391', 'host_url': 'https://w...   \n",
       "1  {'host_id': '11275734', 'host_url': 'https://w...   \n",
       "2  {'host_id': '5448114', 'host_url': 'https://ww...   \n",
       "3  {'host_id': '1282196', 'host_url': 'https://ww...   \n",
       "4  {'host_id': '1241644', 'host_url': 'https://ww...   \n",
       "\n",
       "                                             address  \\\n",
       "0  {'street': 'Porto, Porto, Portugal', 'suburb':...   \n",
       "1  {'street': 'Brooklyn, NY, United States', 'sub...   \n",
       "2  {'street': 'Honolulu, HI, United States', 'sub...   \n",
       "3  {'street': 'Rio de Janeiro, Rio de Janeiro, Br...   \n",
       "4  {'street': 'Kadıköy, İstanbul, Turkey', 'subur...   \n",
       "\n",
       "                                        availability  \\\n",
       "0  {'availability_30': 28, 'availability_60': 47,...   \n",
       "1  {'availability_30': 0, 'availability_60': 0, '...   \n",
       "2  {'availability_30': 16, 'availability_60': 46,...   \n",
       "3  {'availability_30': 0, 'availability_60': 0, '...   \n",
       "4  {'availability_30': 27, 'availability_60': 57,...   \n",
       "\n",
       "                                       review_scores  \\\n",
       "0  {'review_scores_accuracy': 9, 'review_scores_c...   \n",
       "1  {'review_scores_accuracy': 10, 'review_scores_...   \n",
       "2  {'review_scores_accuracy': 9, 'review_scores_c...   \n",
       "3  {'review_scores_accuracy': None, 'review_score...   \n",
       "4  {'review_scores_accuracy': 10, 'review_scores_...   \n",
       "\n",
       "                                             reviews  weekly_price  \\\n",
       "0  [{'_id': '58663741', 'date': 2016-01-03 05:00:...           NaN   \n",
       "1  [{'_id': '61050713', 'date': 2016-01-31 05:00:...           NaN   \n",
       "2  [{'_id': '4765259', 'date': 2013-05-24 04:00:0...         650.0   \n",
       "3                                                 []        1492.0   \n",
       "4  [{'_id': '68162172', 'date': 2016-04-02 04:00:...           NaN   \n",
       "\n",
       "  monthly_price                                    text_embeddings  \\\n",
       "0           NaN  [0.0123710884, -0.0180913936, -0.016843712, -0...   \n",
       "1           NaN  [0.0153845912, -0.0348115042, -0.0093448907, 0...   \n",
       "2        2150.0  [-0.0400562622, -0.0405789167, 0.000644172, 0....   \n",
       "3        4849.0  [-0.063234821, 0.0017937823, -0.0243996996, -0...   \n",
       "4           NaN  [0.023723349, 0.0064210771, -0.0339970738, -0....   \n",
       "\n",
       "                                    image_embeddings  \n",
       "0  [-0.1302358955, 0.1534578055, 0.0199299306, -0...  \n",
       "1  [0.0340401195, 0.1742489338, -0.1572628617, 0....  \n",
       "2  [-0.1640156209, 0.1256971657, 0.6594450474, -0...  \n",
       "3  [-0.1292964518, 0.037789464, 0.2443587631, 0.0...  \n",
       "4  [-0.1006749049, 0.4022984803, -0.1821258366, 0...  \n",
       "\n",
       "[5 rows x 43 columns]"
      ]
     },
     "execution_count": 7,
     "metadata": {},
     "output_type": "execute_result"
    }
   ],
   "source": [
    "from datasets import load_dataset\n",
    "import pandas as pd\n",
    "\n",
    "dataset = load_dataset(\"MongoDB/airbnb_embeddings\", streaming=True, split=\"train\")\n",
    "dataset = dataset.take(100)\n",
    "# Convert the dataset to a pandas dataframe\n",
    "dataset_df = pd.DataFrame(dataset)\n",
    "dataset_df.head(5)"
   ]
  },
  {
   "cell_type": "code",
   "execution_count": 8,
   "id": "cef8a3ce-e87d-49f3-a935-530cb54d6f2e",
   "metadata": {
    "height": 30
   },
   "outputs": [
    {
     "name": "stdout",
     "output_type": "stream",
     "text": [
      "Columns: Index(['_id', 'listing_url', 'name', 'summary', 'space', 'description',\n",
      "       'neighborhood_overview', 'notes', 'transit', 'access', 'interaction',\n",
      "       'house_rules', 'property_type', 'room_type', 'bed_type',\n",
      "       'minimum_nights', 'maximum_nights', 'cancellation_policy',\n",
      "       'last_scraped', 'calendar_last_scraped', 'first_review', 'last_review',\n",
      "       'accommodates', 'bedrooms', 'beds', 'number_of_reviews', 'bathrooms',\n",
      "       'amenities', 'price', 'security_deposit', 'cleaning_fee',\n",
      "       'extra_people', 'guests_included', 'images', 'host', 'address',\n",
      "       'availability', 'review_scores', 'reviews', 'weekly_price',\n",
      "       'monthly_price', 'text_embeddings', 'image_embeddings'],\n",
      "      dtype='object')\n"
     ]
    }
   ],
   "source": [
    "print(\"Columns:\", dataset_df.columns)"
   ]
  },
  {
   "cell_type": "markdown",
   "id": "75cabb79-54bd-443f-8edc-ba80ec529be5",
   "metadata": {},
   "source": [
    "## Document Modelling"
   ]
  },
  {
   "cell_type": "code",
   "execution_count": 9,
   "id": "03e640da-4906-4ade-8f0e-9559f7239575",
   "metadata": {
    "height": 30
   },
   "outputs": [],
   "source": [
    "listings = custom_utils.process_records(dataset_df)"
   ]
  },
  {
   "cell_type": "markdown",
   "id": "8d8dc7e1-d108-4a40-8294-4325b69fd5a4",
   "metadata": {},
   "source": [
    "## Database Creation and Connection"
   ]
  },
  {
   "cell_type": "code",
   "execution_count": 10,
   "id": "d124791c-f015-440b-9d64-6cb7d6c7a6c9",
   "metadata": {
    "height": 30
   },
   "outputs": [
    {
     "name": "stdout",
     "output_type": "stream",
     "text": [
      "Connection to MongoDB successful\n"
     ]
    }
   ],
   "source": [
    "db, collection = custom_utils.connect_to_database()"
   ]
  },
  {
   "cell_type": "code",
   "execution_count": 11,
   "id": "b5865a1f-9db7-4eb4-b768-e3353d637121",
   "metadata": {
    "height": 47
   },
   "outputs": [
    {
     "data": {
      "text/plain": [
       "DeleteResult({'n': 0, 'electionId': ObjectId('7fffffff0000000000000002'), 'opTime': {'ts': Timestamp(1727363017, 1), 't': 2}, 'ok': 1.0, '$clusterTime': {'clusterTime': Timestamp(1727363017, 1), 'signature': {'hash': b'\\x00\\x00\\x00\\x00\\x00\\x00\\x00\\x00\\x00\\x00\\x00\\x00\\x00\\x00\\x00\\x00\\x00\\x00\\x00\\x00', 'keyId': 0}}, 'operationTime': Timestamp(1727363017, 1)}, acknowledged=True)"
      ]
     },
     "execution_count": 11,
     "metadata": {},
     "output_type": "execute_result"
    }
   ],
   "source": [
    "# Delete any existing records in the collection\n",
    "collection.delete_many({})"
   ]
  },
  {
   "cell_type": "markdown",
   "id": "d616ad62-e4b2-4086-b596-14320baa5db6",
   "metadata": {},
   "source": [
    "## Data Ingestion"
   ]
  },
  {
   "cell_type": "code",
   "execution_count": 12,
   "id": "b602c4d7-fd03-4fa4-be63-0b22b29724b7",
   "metadata": {
    "height": 47
   },
   "outputs": [
    {
     "name": "stdout",
     "output_type": "stream",
     "text": [
      "Data ingestion into MongoDB completed\n"
     ]
    }
   ],
   "source": [
    "collection.insert_many(listings)\n",
    "print(\"Data ingestion into MongoDB completed\")"
   ]
  },
  {
   "cell_type": "markdown",
   "id": "9567637d-9c54-4594-81b7-592f634eb7fa",
   "metadata": {},
   "source": [
    "## Vector Search Index defintion"
   ]
  },
  {
   "cell_type": "code",
   "execution_count": 13,
   "id": "061b04e8-b279-41dc-80fc-d94fcd544af8",
   "metadata": {
    "height": 47
   },
   "outputs": [
    {
     "name": "stdout",
     "output_type": "stream",
     "text": [
      "Creating index...\n",
      "New index created successfully: vector_index_with_filter\n"
     ]
    }
   ],
   "source": [
    "# Create vector search index\n",
    "custom_utils.setup_vector_search_index_with_filter(collection=collection)"
   ]
  },
  {
   "cell_type": "markdown",
   "id": "36804e3d-7cff-4b7d-9a6e-018806f1fdbf",
   "metadata": {},
   "source": [
    "<p style=\"background-color:#fff6e4; padding:15px; border-width:3px; border-color:#f5ecda; border-style:solid; border-radius:6px\"> ⏳ <b>Note:</b> If the output of the previous cell is <code>Error creating vector search index: Duplicate Index</code> you may proceed to the next cell if you intend to still use a previously created index.</p>"
   ]
  },
  {
   "cell_type": "markdown",
   "id": "678beaa8-f9bb-4f60-bf21-1e56916c6da9",
   "metadata": {},
   "source": [
    "## Handling User Query"
   ]
  },
  {
   "cell_type": "code",
   "execution_count": 14,
   "id": "ea395473-e021-487e-a794-280655380fb2",
   "metadata": {
    "height": 217
   },
   "outputs": [],
   "source": [
    "from pydantic import BaseModel\n",
    "from typing import Optional\n",
    "\n",
    "class SearchResultItem(BaseModel):\n",
    "    name: str\n",
    "    accommodates: Optional[int] = None\n",
    "    address: custom_utils.Address\n",
    "    neighborhood_overview: Optional[str] = None\n",
    "    notes: Optional[str] = None\n",
    "    averageReviewScore: Optional[float] = None\n",
    "    number_of_reviews: Optional[float] = None\n",
    "    combinedScore: Optional[float] = None"
   ]
  },
  {
   "cell_type": "markdown",
   "id": "8d50e3e1-92ae-4957-86e8-77f6936b7f73",
   "metadata": {},
   "source": [
    "## Boosting Search Results After Vector Search"
   ]
  },
  {
   "cell_type": "code",
   "execution_count": 15,
   "id": "1d86e9f0-5a7e-43fb-b855-ecf3ee2a46a5",
   "metadata": {
    "height": 370
   },
   "outputs": [],
   "source": [
    "review_average_stage = {\n",
    "    \"$addFields\": {\n",
    "        \"averageReviewScore\": {\n",
    "            \"$divide\": [\n",
    "                {\n",
    "                    \"$add\": [\n",
    "                        \"$review_scores.review_scores_accuracy\",\n",
    "                        \"$review_scores.review_scores_cleanliness\",\n",
    "                        \"$review_scores.review_scores_checkin\",\n",
    "                        \"$review_scores.review_scores_communication\",\n",
    "                        \"$review_scores.review_scores_location\",\n",
    "                        \"$review_scores.review_scores_value\",\n",
    "                    ]\n",
    "                },\n",
    "                6  # Divide by the number of review score types to get the average\n",
    "            ]\n",
    "        },\n",
    "        # Calculate a score boost factor based on the number of reviews\n",
    "        \"reviewCountBoost\": \"$number_of_reviews\"\n",
    "    }\n",
    "}"
   ]
  },
  {
   "cell_type": "code",
   "execution_count": 16,
   "id": "8ecb2cff-50de-4656-bc62-1586e9a06b9a",
   "metadata": {
    "height": 200
   },
   "outputs": [],
   "source": [
    "weighting_stage = {\n",
    "    \"$addFields\": {\n",
    "        \"combinedScore\": {\n",
    "            # Example formula that combines average review score and review count boost\n",
    "            \"$add\": [\n",
    "                {\"$multiply\": [\"$averageReviewScore\", 0.3]},  # Weighted average review score\n",
    "                {\"$multiply\": [\"$reviewCountBoost\", 0.7]}   # Weighted review count boost\n",
    "            ]\n",
    "        }\n",
    "    }\n",
    "}"
   ]
  },
  {
   "cell_type": "code",
   "execution_count": 17,
   "id": "b6d230f8-324c-4466-8efc-e02e2ea3ff30",
   "metadata": {
    "height": 81
   },
   "outputs": [],
   "source": [
    "# Apply the combinedScore for sorting\n",
    "sorting_stage_sort = {\n",
    "    \"$sort\": {\"combinedScore\": -1}  # Descending order to boost higher combined scores\n",
    "}"
   ]
  },
  {
   "cell_type": "code",
   "execution_count": 18,
   "id": "0318142e-32a2-4bb8-90ec-c1d059d93b95",
   "metadata": {
    "height": 30
   },
   "outputs": [],
   "source": [
    "additional_stages = [review_average_stage, weighting_stage, sorting_stage_sort]"
   ]
  },
  {
   "cell_type": "markdown",
   "id": "a1c1d370-e016-4986-9668-f9da24ca62a4",
   "metadata": {},
   "source": [
    "## Modified Handling User Query"
   ]
  },
  {
   "cell_type": "code",
   "execution_count": 25,
   "id": "c394155f",
   "metadata": {
    "height": 30
   },
   "outputs": [],
   "source": [
    "import custom_utils"
   ]
  },
  {
   "cell_type": "code",
   "execution_count": 26,
   "id": "503662bb-7685-4e64-8523-ceed3330b04d",
   "metadata": {
    "height": 625
   },
   "outputs": [],
   "source": [
    "from IPython.display import display, HTML\n",
    "import pprint\n",
    "\n",
    "def handle_user_query(query, db, collection, stages=[], vector_index=\"vector_index_text\"):\n",
    "    get_knowledge = custom_utils.vector_search_with_filter(query, db, collection, stages, vector_index)\n",
    "\n",
    "    if not get_knowledge:\n",
    "        return \"No results found.\", \"No source information available.\"\n",
    "    \n",
    "    search_results_models = [\n",
    "        SearchResultItem(**result)\n",
    "        for result in get_knowledge\n",
    "    ]\n",
    "\n",
    "    search_results_df = pd.DataFrame([item.dict() for item in search_results_models])\n",
    "\n",
    "    print(\"Uncompressed Prompt (Query Info):\\n\")\n",
    "    print(search_results_df)\n",
    "\n",
    "    completion = custom_utils.openai.chat.completions.create(\n",
    "        model=\"gpt-3.5-turbo\",\n",
    "        messages=[\n",
    "            {\n",
    "                \"role\": \"system\", \n",
    "                \"content\": \"You are a airbnb listing recommendation system.\"},\n",
    "            {\n",
    "                \"role\": \"user\", \n",
    "                \"content\": f\"Answer this user query: {query} with the following context:\\n{search_results_df}\"\n",
    "            }\n",
    "        ]\n",
    "    )\n",
    "    system_response = completion.choices[0].message.content\n",
    "    print(f\"- User Question:\\n{query}\\n\")\n",
    "    print(f\"- System Response:\\n{system_response}\\n\")\n",
    "    display(HTML(search_results_df.to_html()))\n",
    "    return system_response"
   ]
  },
  {
   "cell_type": "code",
   "execution_count": 27,
   "id": "43e186ba-c53e-484d-b311-31e68b8128f8",
   "metadata": {
    "height": 217
   },
   "outputs": [
    {
     "ename": "KeyError",
     "evalue": "'millisElapsed'",
     "output_type": "error",
     "traceback": [
      "\u001b[0;31m---------------------------------------------------------------------------\u001b[0m",
      "\u001b[0;31mKeyError\u001b[0m                                  Traceback (most recent call last)",
      "Cell \u001b[0;32mIn[27], line 6\u001b[0m\n\u001b[1;32m      1\u001b[0m query \u001b[38;5;241m=\u001b[39m \u001b[38;5;124m\"\"\"\u001b[39m\n\u001b[1;32m      2\u001b[0m \u001b[38;5;124mI want to stay in a place that\u001b[39m\u001b[38;5;124m'\u001b[39m\u001b[38;5;124ms warm and friendly, \u001b[39m\n\u001b[1;32m      3\u001b[0m \u001b[38;5;124mand not too far from resturants, can you recommend a place? \u001b[39m\n\u001b[1;32m      4\u001b[0m \u001b[38;5;124mInclude a reason as to why you\u001b[39m\u001b[38;5;124m'\u001b[39m\u001b[38;5;124mve chosen your selection\u001b[39m\u001b[38;5;124m\"\u001b[39m\n\u001b[1;32m      5\u001b[0m \u001b[38;5;124m\"\"\"\u001b[39m\n\u001b[0;32m----> 6\u001b[0m \u001b[43mhandle_user_query\u001b[49m\u001b[43m(\u001b[49m\n\u001b[1;32m      7\u001b[0m \u001b[43m    \u001b[49m\u001b[43mquery\u001b[49m\u001b[43m,\u001b[49m\u001b[43m \u001b[49m\n\u001b[1;32m      8\u001b[0m \u001b[43m    \u001b[49m\u001b[43mdb\u001b[49m\u001b[43m,\u001b[49m\u001b[43m \u001b[49m\n\u001b[1;32m      9\u001b[0m \u001b[43m    \u001b[49m\u001b[43mcollection\u001b[49m\u001b[43m,\u001b[49m\u001b[43m \u001b[49m\n\u001b[1;32m     10\u001b[0m \u001b[43m    \u001b[49m\u001b[43madditional_stages\u001b[49m\u001b[43m,\u001b[49m\u001b[43m \u001b[49m\n\u001b[1;32m     11\u001b[0m \u001b[43m    \u001b[49m\u001b[43mvector_index\u001b[49m\u001b[38;5;241;43m=\u001b[39;49m\u001b[38;5;124;43m\"\u001b[39;49m\u001b[38;5;124;43mvector_index_with_filter\u001b[39;49m\u001b[38;5;124;43m\"\u001b[39;49m\n\u001b[1;32m     12\u001b[0m \u001b[43m)\u001b[49m\n",
      "Cell \u001b[0;32mIn[26], line 5\u001b[0m, in \u001b[0;36mhandle_user_query\u001b[0;34m(query, db, collection, stages, vector_index)\u001b[0m\n\u001b[1;32m      4\u001b[0m \u001b[38;5;28;01mdef\u001b[39;00m \u001b[38;5;21mhandle_user_query\u001b[39m(query, db, collection, stages\u001b[38;5;241m=\u001b[39m[], vector_index\u001b[38;5;241m=\u001b[39m\u001b[38;5;124m\"\u001b[39m\u001b[38;5;124mvector_index_text\u001b[39m\u001b[38;5;124m\"\u001b[39m):\n\u001b[0;32m----> 5\u001b[0m     get_knowledge \u001b[38;5;241m=\u001b[39m \u001b[43mcustom_utils\u001b[49m\u001b[38;5;241;43m.\u001b[39;49m\u001b[43mvector_search_with_filter\u001b[49m\u001b[43m(\u001b[49m\u001b[43mquery\u001b[49m\u001b[43m,\u001b[49m\u001b[43m \u001b[49m\u001b[43mdb\u001b[49m\u001b[43m,\u001b[49m\u001b[43m \u001b[49m\u001b[43mcollection\u001b[49m\u001b[43m,\u001b[49m\u001b[43m \u001b[49m\u001b[43mstages\u001b[49m\u001b[43m,\u001b[49m\u001b[43m \u001b[49m\u001b[43mvector_index\u001b[49m\u001b[43m)\u001b[49m\n\u001b[1;32m      7\u001b[0m     \u001b[38;5;28;01mif\u001b[39;00m \u001b[38;5;129;01mnot\u001b[39;00m get_knowledge:\n\u001b[1;32m      8\u001b[0m         \u001b[38;5;28;01mreturn\u001b[39;00m \u001b[38;5;124m\"\u001b[39m\u001b[38;5;124mNo results found.\u001b[39m\u001b[38;5;124m\"\u001b[39m, \u001b[38;5;124m\"\u001b[39m\u001b[38;5;124mNo source information available.\u001b[39m\u001b[38;5;124m\"\u001b[39m\n",
      "File \u001b[0;32m~/work/L5/custom_utils.py:278\u001b[0m, in \u001b[0;36mvector_search_with_filter\u001b[0;34m(user_query, db, collection, additional_stages, vector_index)\u001b[0m\n\u001b[1;32m    269\u001b[0m explain_query_execution \u001b[38;5;241m=\u001b[39m db\u001b[38;5;241m.\u001b[39mcommand( \u001b[38;5;66;03m# sends a database command directly to the MongoDB server\u001b[39;00m\n\u001b[1;32m    270\u001b[0m     \u001b[38;5;124m'\u001b[39m\u001b[38;5;124mexplain\u001b[39m\u001b[38;5;124m'\u001b[39m, { \u001b[38;5;66;03m# return information about how MongoDB executes a query or command without actually running it\u001b[39;00m\n\u001b[1;32m    271\u001b[0m         \u001b[38;5;124m'\u001b[39m\u001b[38;5;124maggregate\u001b[39m\u001b[38;5;124m'\u001b[39m: collection\u001b[38;5;241m.\u001b[39mname, \u001b[38;5;66;03m# specifies the name of the collection on which the aggregation is performed\u001b[39;00m\n\u001b[0;32m   (...)\u001b[0m\n\u001b[1;32m    274\u001b[0m     }, \n\u001b[1;32m    275\u001b[0m     verbosity\u001b[38;5;241m=\u001b[39m\u001b[38;5;124m'\u001b[39m\u001b[38;5;124mexecutionStats\u001b[39m\u001b[38;5;124m'\u001b[39m) \u001b[38;5;66;03m# detailed statistics about the execution of each stage of the aggregation pipeline\u001b[39;00m\n\u001b[1;32m    277\u001b[0m vector_search_explain \u001b[38;5;241m=\u001b[39m explain_query_execution[\u001b[38;5;124m'\u001b[39m\u001b[38;5;124mstages\u001b[39m\u001b[38;5;124m'\u001b[39m][\u001b[38;5;241m0\u001b[39m][\u001b[38;5;124m'\u001b[39m\u001b[38;5;124m$vectorSearch\u001b[39m\u001b[38;5;124m'\u001b[39m]\n\u001b[0;32m--> 278\u001b[0m millis_elapsed \u001b[38;5;241m=\u001b[39m \u001b[43mvector_search_explain\u001b[49m\u001b[43m[\u001b[49m\u001b[38;5;124;43m'\u001b[39;49m\u001b[38;5;124;43mexplain\u001b[39;49m\u001b[38;5;124;43m'\u001b[39;49m\u001b[43m]\u001b[49m\u001b[43m[\u001b[49m\u001b[38;5;124;43m'\u001b[39;49m\u001b[38;5;124;43mcollectStats\u001b[39;49m\u001b[38;5;124;43m'\u001b[39;49m\u001b[43m]\u001b[49m\u001b[43m[\u001b[49m\u001b[38;5;124;43m'\u001b[39;49m\u001b[38;5;124;43mmillisElapsed\u001b[39;49m\u001b[38;5;124;43m'\u001b[39;49m\u001b[43m]\u001b[49m\n\u001b[1;32m    280\u001b[0m \u001b[38;5;28mprint\u001b[39m(\u001b[38;5;124mf\u001b[39m\u001b[38;5;124m\"\u001b[39m\u001b[38;5;124mTotal time for the execution to complete on the database server: \u001b[39m\u001b[38;5;132;01m{\u001b[39;00mmillis_elapsed\u001b[38;5;132;01m}\u001b[39;00m\u001b[38;5;124m milliseconds\u001b[39m\u001b[38;5;124m\"\u001b[39m)\n\u001b[1;32m    282\u001b[0m \u001b[38;5;28;01mreturn\u001b[39;00m \u001b[38;5;28mlist\u001b[39m(results)\n",
      "\u001b[0;31mKeyError\u001b[0m: 'millisElapsed'"
     ]
    }
   ],
   "source": [
    "query = \"\"\"\n",
    "I want to stay in a place that's warm and friendly, \n",
    "and not too far from resturants, can you recommend a place? \n",
    "Include a reason as to why you've chosen your selection\"\n",
    "\"\"\"\n",
    "handle_user_query(\n",
    "    query, \n",
    "    db, \n",
    "    collection, \n",
    "    additional_stages, \n",
    "    vector_index=\"vector_index_with_filter\"\n",
    ")"
   ]
  },
  {
   "cell_type": "markdown",
   "id": "b08a2cfe-22f2-4421-a1ec-d2f53bee2fcb",
   "metadata": {},
   "source": [
    "## Prompt Compression"
   ]
  },
  {
   "cell_type": "code",
   "execution_count": null,
   "id": "70aa1f19-3a43-4800-8984-ea343dc5dfda",
   "metadata": {
    "height": 540
   },
   "outputs": [],
   "source": [
    "import json\n",
    "from llmlingua import PromptCompressor\n",
    "\n",
    "llm_lingua = PromptCompressor(\n",
    "    model_name=\"microsoft/llmlingua-2-bert-base-multilingual-cased-meetingbank\",\n",
    "    model_config={\"revision\": \"main\"},\n",
    "    use_llmlingua2=True,\n",
    "    device_map=\"cpu\",\n",
    ")\n",
    "\n",
    "# Function definition\n",
    "def compress_query_prompt(query):\n",
    "\n",
    "    demonstration_str = query['demonstration_str']\n",
    "    instruction = query['instruction']\n",
    "    question = query['question']\n",
    "\n",
    "    # 6x Compression\n",
    "    compressed_prompt = llm_lingua.compress_prompt(\n",
    "        demonstration_str.split(\"\\n\"), \n",
    "        instruction=instruction,\n",
    "        question=question,\n",
    "        target_token=500,\n",
    "        rank_method=\"longllmlingua\", \n",
    "        context_budget=\"+100\",\n",
    "        dynamic_context_compression_ratio=0.4,\n",
    "        reorder_context=\"sort\",\n",
    "    )\n",
    "\n",
    "    return json.dumps(compressed_prompt, indent=4)\n"
   ]
  },
  {
   "cell_type": "code",
   "execution_count": null,
   "id": "1aadfd10-c9ba-4f93-9f0d-b99771219e28",
   "metadata": {
    "height": 557
   },
   "outputs": [],
   "source": [
    "def handle_user_query_with_compression(query, db, collection, stages=[], vector_index=\"vector_index_text\"):\n",
    "    # Perform vector search to get knowledge from the database\n",
    "    get_knowledge = custom_utils.vector_search_with_filter(query, db, collection, stages, vector_index)\n",
    "\n",
    "    # Check if there are any results\n",
    "    if not get_knowledge:\n",
    "        return None, \"No results found.\"\n",
    "\n",
    "    # Convert search results into a list of SearchResultItem models\n",
    "    search_results_models = [SearchResultItem(**result) for result in get_knowledge]\n",
    "\n",
    "    # Convert search results into a DataFrame for better rendering\n",
    "    search_results_df = pd.DataFrame([item.dict() for item in search_results_models])\n",
    "\n",
    "    # Prepare information for compression\n",
    "    query_info = {\n",
    "        'demonstration_str': search_results_df.to_string(),  # Results from information retrieval process\n",
    "        'instruction': \"Write a high-quality answer for the given question using only the provided search results.\",\n",
    "        'question': query  # User query\n",
    "    }\n",
    "\n",
    "    # Compress the query prompt using predefined function\n",
    "    compressed_prompt = compress_query_prompt(query_info)\n",
    "\n",
    "    # Optional: Print compressed prompts for debugging\n",
    "    print(\"Compressed Prompt:\\n\")\n",
    "    pprint.pprint(compressed_prompt)\n",
    "    print(\"\\n\" + \"=\" * 80 + \"\\n\")\n",
    "\n",
    "    return search_results_df, compressed_prompt\n",
    "\n"
   ]
  },
  {
   "cell_type": "code",
   "execution_count": null,
   "id": "599d2704-4451-4db3-8e56-8eedb0de82f6",
   "metadata": {
    "height": 438
   },
   "outputs": [],
   "source": [
    "def handle_system_response(query, compressed_prompt):\n",
    "    # Generate system response using OpenAI's completion\n",
    "    completion = custom_utils.openai.chat.completions.create(\n",
    "        model=\"gpt-3.5-turbo\",\n",
    "        messages=[\n",
    "            {\n",
    "                \"role\": \"system\",\n",
    "                \"content\": \"You are an Airbnb listing recommendation system.\"\n",
    "            },\n",
    "            {\n",
    "                \"role\": \"user\",\n",
    "                \"content\": f\"Answer this user query: {query} with the following context:\\n{compressed_prompt}\"\n",
    "            }\n",
    "        ]\n",
    "    )\n",
    "\n",
    "    system_response = completion.choices[0].message.content\n",
    "\n",
    "    # Print User Question, System Response\n",
    "    print(f\"- User Question:\\n{query}\\n\")\n",
    "    print(f\"- System Response:\\n{system_response}\\n\")\n",
    "\n",
    "    # Return the system response\n",
    "    return system_response\n"
   ]
  },
  {
   "cell_type": "code",
   "execution_count": null,
   "id": "b0aca573-77f8-49dc-b232-1e991dbffd29",
   "metadata": {
    "height": 132
   },
   "outputs": [],
   "source": [
    "# Compress the query and get search results\n",
    "results, compressed_prompt = handle_user_query_with_compression(query, \n",
    "                                                                  db, \n",
    "                                                                  collection, \n",
    "                                                                  additional_stages, \n",
    "                                                                  vector_index=\"vector_index_with_filter\"\n",
    "                                                                 )"
   ]
  },
  {
   "cell_type": "code",
   "execution_count": null,
   "id": "ebdb52e2-0bd2-41be-a523-5ad73cdc38fa",
   "metadata": {
    "height": 98
   },
   "outputs": [],
   "source": [
    "if compressed_prompt:\n",
    "    # Handle the system response with the compressed prompt\n",
    "    system_response = handle_system_response(query, compressed_prompt)\n",
    "else:\n",
    "    print(\"No valid results to display.\")"
   ]
  },
  {
   "cell_type": "markdown",
   "id": "ef642368-5cee-4b6d-ac11-252cfea3c757",
   "metadata": {},
   "source": [
    "## Additional Resouces\n",
    "\n",
    "- [The MongoDB Developer Center for tutorials, articles and videos](https://mdb.link/developer_center)\n",
    "\n",
    "- [The GenAI Showcase Repo for code showcasing building AI applications and demo](https://github.com/mongodb-developer/GenAI-Showcase)\n",
    "\n",
    "- [DeepLearning AI forum for question in regards to this course](https://community.deeplearning.ai/)"
   ]
  },
  {
   "cell_type": "code",
   "execution_count": null,
   "id": "156ab944-4368-42fd-bdc8-fdc27eab591c",
   "metadata": {
    "height": 30
   },
   "outputs": [],
   "source": []
  },
  {
   "cell_type": "code",
   "execution_count": null,
   "id": "6840a77e-6eb9-4bcf-a45d-708c8a3de213",
   "metadata": {
    "height": 30
   },
   "outputs": [],
   "source": []
  },
  {
   "cell_type": "code",
   "execution_count": null,
   "id": "f9f53e84-82c3-454f-96b8-35e74c683a02",
   "metadata": {
    "height": 30
   },
   "outputs": [],
   "source": []
  },
  {
   "cell_type": "code",
   "execution_count": null,
   "id": "ac627208-461a-4998-9fc2-4460d6020fe0",
   "metadata": {
    "height": 30
   },
   "outputs": [],
   "source": []
  }
 ],
 "metadata": {
  "kernelspec": {
   "display_name": "Python 3 (ipykernel)",
   "language": "python",
   "name": "python3"
  },
  "language_info": {
   "codemirror_mode": {
    "name": "ipython",
    "version": 3
   },
   "file_extension": ".py",
   "mimetype": "text/x-python",
   "name": "python",
   "nbconvert_exporter": "python",
   "pygments_lexer": "ipython3",
   "version": "3.11.9"
  }
 },
 "nbformat": 4,
 "nbformat_minor": 5
}
